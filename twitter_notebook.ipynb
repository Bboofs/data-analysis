{
 "cells": [
  {
   "cell_type": "code",
   "execution_count": 16,
   "metadata": {},
   "outputs": [],
   "source": [
    "import pandas as pd\n",
    "import numpy as np\n",
    "import matplotlib.pyplot as plt"
   ]
  },
  {
   "cell_type": "code",
   "execution_count": 17,
   "metadata": {},
   "outputs": [],
   "source": [
    "%matplotlib inline"
   ]
  },
  {
   "cell_type": "code",
   "execution_count": 1,
   "metadata": {},
   "outputs": [],
   "source": [
    "url = 'data/tweeter.sqlite3'\n",
    "url = 'sqlite:///{}'.format(url)\n",
    "\n",
    "tweets = pd.read_sql('tweets', url)\n",
    "users = pd.read_sql('users', url)"
   ]
  },
  {
   "cell_type": "code",
   "execution_count": 2,
   "metadata": {},
   "outputs": [],
   "source": [
    "# convert date strings to date format\n",
    "# e.g. pd.to_datetime('Tue Jan 01 13:08:29 +0000 2013', format='%a %b %d %H:%M:%S %z %Y')\n",
    "\n",
    "'''\n",
    "+----+-------------------------------------------------------+-------------------------------+\n",
    "| %a | Weekday as locale’s abbreviated name.                 | Sun, Mon, …, Sat (en_US)      |\n",
    "+----+-------------------------------------------------------+-------------------------------+\n",
    "| %b | Month as locale’s abbreviated name.                   | Jan, Feb, …, Dec (en_US);     |\n",
    "+----+-------------------------------------------------------+-------------------------------+\n",
    "| %d | Day of the month as a zero-padded decimal number.     | 01, 02, …, 31                 |\n",
    "+----+-------------------------------------------------------+-------------------------------+\n",
    "| %H | Hour (24-hour clock) as a zero-padded decimal number. | 00, 01, …, 23                 |\n",
    "+----+-------------------------------------------------------+-------------------------------+\n",
    "| %M | Minute as a zero-padded decimal number.               | 00, 01, …, 59                 |\n",
    "+----+-------------------------------------------------------+-------------------------------+\n",
    "| %S | Second as a zero-padded decimal number.               | 00, 01, …, 59                 |\n",
    "+----+-------------------------------------------------------+-------------------------------+\n",
    "| %Y | Year with century as a decimal number.                | 0001, 0002, …, 2013, 2014, …  |\n",
    "+----+-------------------------------------------------------+-------------------------------+\n",
    "| %z | UTC offset in the form ±HHMM[SS[.ffffff]]             | (empty), +0000, -0400, +1030, |\n",
    "|    | (empty string if the object is naive).                | +063415, -030712.345216       |\n",
    "+----+-------------------------------------------------------+-------------------------------+\n",
    "'''\n",
    "users['created_at'] = pd.to_datetime(users['created_at'], format='%a %b %d %H:%M:%S %z %Y')\n",
    "tweets['created_at'] = pd.to_datetime(tweets['created_at'], format='%a %b %d %H:%M:%S %z %Y')"
   ]
  },
  {
   "cell_type": "code",
   "execution_count": 3,
   "metadata": {},
   "outputs": [
    {
     "name": "stdout",
     "output_type": "stream",
     "text": [
      "<class 'pandas.core.frame.DataFrame'>\n",
      "RangeIndex: 8203 entries, 0 to 8202\n",
      "Data columns (total 15 columns):\n",
      " #   Column                   Non-Null Count  Dtype              \n",
      "---  ------                   --------------  -----              \n",
      " 0   id                       8203 non-null   int64              \n",
      " 1   tid                      8203 non-null   object             \n",
      " 2   tweet                    8203 non-null   object             \n",
      " 3   user_id                  8203 non-null   int64              \n",
      " 4   coordinates              8203 non-null   object             \n",
      " 5   created_at               8203 non-null   datetime64[ns, UTC]\n",
      " 6   favourites_count         8203 non-null   int64              \n",
      " 7   in_reply_to_screen_name  2184 non-null   object             \n",
      " 8   in_reply_to_status_id    0 non-null      object             \n",
      " 9   in_reply_to_user_id      2184 non-null   float64            \n",
      " 10  lang                     8203 non-null   object             \n",
      " 11  quoted_status_id         829 non-null    float64            \n",
      " 12  retweet_count            8203 non-null   int64              \n",
      " 13  source                   8203 non-null   object             \n",
      " 14  is_retweet               8203 non-null   bool               \n",
      "dtypes: bool(1), datetime64[ns, UTC](1), float64(2), int64(4), object(7)\n",
      "memory usage: 905.3+ KB\n"
     ]
    }
   ],
   "source": [
    "tweets.info()"
   ]
  },
  {
   "cell_type": "code",
   "execution_count": 4,
   "metadata": {},
   "outputs": [
    {
     "name": "stdout",
     "output_type": "stream",
     "text": [
      "<class 'pandas.core.frame.DataFrame'>\n",
      "RangeIndex: 8203 entries, 0 to 8202\n",
      "Data columns (total 13 columns):\n",
      " #   Column            Non-Null Count  Dtype              \n",
      "---  ------            --------------  -----              \n",
      " 0   id                8203 non-null   int64              \n",
      " 1   uid               8203 non-null   object             \n",
      " 2   name              8203 non-null   object             \n",
      " 3   screen_name       8203 non-null   object             \n",
      " 4   created_at        8203 non-null   datetime64[ns, UTC]\n",
      " 5   description       7276 non-null   object             \n",
      " 6   followers_count   8203 non-null   int64              \n",
      " 7   friends_count     0 non-null      object             \n",
      " 8   statuses_count    8203 non-null   int64              \n",
      " 9   favourites_count  8203 non-null   int64              \n",
      " 10  listed_count      8203 non-null   int64              \n",
      " 11  geo_enabled       8203 non-null   bool               \n",
      " 12  lang              0 non-null      object             \n",
      "dtypes: bool(1), datetime64[ns, UTC](1), int64(5), object(6)\n",
      "memory usage: 777.2+ KB\n"
     ]
    }
   ],
   "source": [
    "users.info()"
   ]
  },
  {
   "cell_type": "code",
   "execution_count": 5,
   "metadata": {},
   "outputs": [],
   "source": [
    "hours = users['created_at'].dt.hour.to_numpy()"
   ]
  },
  {
   "cell_type": "code",
   "execution_count": 6,
   "metadata": {
    "scrolled": true
   },
   "outputs": [
    {
     "data": {
      "text/plain": [
       "str"
      ]
     },
     "execution_count": 6,
     "metadata": {},
     "output_type": "execute_result"
    }
   ],
   "source": [
    "type(_)"
   ]
  },
  {
   "cell_type": "code",
   "execution_count": 7,
   "metadata": {},
   "outputs": [],
   "source": [
    "hours = users['created_at'].dt.hour.values"
   ]
  },
  {
   "cell_type": "code",
   "execution_count": 10,
   "metadata": {},
   "outputs": [
    {
     "data": {
      "text/plain": [
       "(array([ 772,  553,  630, 1132,  822,  861, 1250,  692,  648,  843],\n",
       "       dtype=int64),\n",
       " array([ 0. ,  2.3,  4.6,  6.9,  9.2, 11.5, 13.8, 16.1, 18.4, 20.7, 23. ]))"
      ]
     },
     "execution_count": 10,
     "metadata": {},
     "output_type": "execute_result"
    }
   ],
   "source": [
    "np.histogram(hours)"
   ]
  },
  {
   "cell_type": "code",
   "execution_count": 12,
   "metadata": {},
   "outputs": [],
   "source": [
    "bins = np.arange(24)"
   ]
  },
  {
   "cell_type": "code",
   "execution_count": 13,
   "metadata": {},
   "outputs": [
    {
     "data": {
      "text/plain": [
       "(array([247, 257, 268, 277, 276, 290, 340, 335, 353, 444, 421, 401, 415,\n",
       "        446, 446, 437, 367, 354, 338, 327, 321, 284, 559], dtype=int64),\n",
       " array([ 0,  1,  2,  3,  4,  5,  6,  7,  8,  9, 10, 11, 12, 13, 14, 15, 16,\n",
       "        17, 18, 19, 20, 21, 22, 23]))"
      ]
     },
     "execution_count": 13,
     "metadata": {},
     "output_type": "execute_result"
    }
   ],
   "source": [
    "np.histogram(hours, bins)"
   ]
  },
  {
   "cell_type": "code",
   "execution_count": 18,
   "metadata": {},
   "outputs": [
    {
     "data": {
      "text/plain": [
       "(array([ 772.,  553.,  630., 1132.,  822.,  861., 1250.,  692.,  648.,\n",
       "         843.]),\n",
       " array([ 0. ,  2.3,  4.6,  6.9,  9.2, 11.5, 13.8, 16.1, 18.4, 20.7, 23. ]),\n",
       " <BarContainer object of 10 artists>)"
      ]
     },
     "execution_count": 18,
     "metadata": {},
     "output_type": "execute_result"
    },
    {
     "data": {
      "image/png": "[encoded data removed]",
      "text/plain": [
       "<Figure size 432x288 with 1 Axes>"
      ]
     },
     "metadata": {
      "needs_background": "light"
     },
     "output_type": "display_data"
    }
   ],
   "source": [
    "plt.hist(hours)"
   ]
  },
  {
   "cell_type": "code",
   "execution_count": 19,
   "metadata": {},
   "outputs": [
    {
     "data": {
      "text/plain": [
       "(array([247., 257., 268., 277., 276., 290., 340., 335., 353., 444., 421.,\n",
       "        401., 415., 446., 446., 437., 367., 354., 338., 327., 321., 284.,\n",
       "        559.]),\n",
       " array([ 0,  1,  2,  3,  4,  5,  6,  7,  8,  9, 10, 11, 12, 13, 14, 15, 16,\n",
       "        17, 18, 19, 20, 21, 22, 23]),\n",
       " <BarContainer object of 23 artists>)"
      ]
     },
     "execution_count": 19,
     "metadata": {},
     "output_type": "execute_result"
    },
    {
     "data": {
      "image/png": "[encoded data removed]",
      "text/plain": [
       "<Figure size 432x288 with 1 Axes>"
      ]
     },
     "metadata": {
      "needs_background": "light"
     },
     "output_type": "display_data"
    }
   ],
   "source": [
    "plt.hist(hours, bins=bins)"
   ]
  },
  {
   "cell_type": "code",
   "execution_count": 20,
   "metadata": {},
   "outputs": [],
   "source": [
    "bins = np.arange(0,24,2)"
   ]
  },
  {
   "cell_type": "code",
   "execution_count": 21,
   "metadata": {},
   "outputs": [
    {
     "data": {
      "text/plain": [
       "array([11,  1, 11, ...,  5,  5, 11], dtype=int64)"
      ]
     },
     "execution_count": 21,
     "metadata": {},
     "output_type": "execute_result"
    }
   ],
   "source": [
    "np.digitize(hours, bins)"
   ]
  },
  {
   "cell_type": "code",
   "execution_count": 22,
   "metadata": {},
   "outputs": [
    {
     "data": {
      "text/plain": [
       "array([20,  1, 20, ...,  8,  9, 21], dtype=int64)"
      ]
     },
     "execution_count": 22,
     "metadata": {},
     "output_type": "execute_result"
    }
   ],
   "source": [
    "hours"
   ]
  },
  {
   "cell_type": "code",
   "execution_count": null,
   "metadata": {},
   "outputs": [],
   "source": []
  }
 ],
 "metadata": {
  "kernelspec": {
   "display_name": "Python 3",
   "language": "python",
   "name": "python3"
  },
  "language_info": {
   "codemirror_mode": {
    "name": "ipython",
    "version": 3
   },
   "file_extension": ".py",
   "mimetype": "text/x-python",
   "name": "python",
   "nbconvert_exporter": "python",
   "pygments_lexer": "ipython3",
   "version": "3.6.5"
  }
 },
 "nbformat": 4,
 "nbformat_minor": 4
}
